{
 "cells": [
  {
   "cell_type": "markdown",
   "metadata": {},
   "source": [
    "## VCF parsing program\n",
    "---\n",
    "* 프로그램이 위치한 경로에 `vcf` 폴더와 `gff3` 폴더를 생성해야 한다\n",
    "* 각각의 폴더 안에는 `vcf` 파일과 `gff3` 파일을 하나씩 위치시켜야 하며, 각각의 파일명을 입력으로 받는다\n",
    "* 각 입력 파일은 염색체 하나의 정보만을 가지고 있어야 한다\n",
    "* vcf 파일에 있는 각 variant가 어느 유전자에 해당하는 것인지 프로그램과 같은 경로에 `result.csv` 파일로 출력한다.\n",
    "* 요구사양: python 3 or greater (pandas, numpy module requested)\n",
    "---"
   ]
  },
  {
   "cell_type": "code",
   "execution_count": 1,
   "metadata": {},
   "outputs": [
    {
     "name": "stdout",
     "output_type": "stream",
     "text": [
      "VCF parsing program by ---------------\n",
      "\n",
      "  |_  ||_   _| | |  | | / _ \\ | \\ | |\n",
      "    | |  | |   | |  | |/ /_\\ \\|  \\| |\n",
      "    | |  | |   | |/\\| ||  _  || . ` |\n",
      "/\\__/ / _| |_  \\  /\\  /| | | || |\\  |\n",
      "\\____/  \\___/   \\/  \\/ \\_| |_/\\_| \\_/\n",
      "\n",
      "-------------------------------------\n"
     ]
    }
   ],
   "source": [
    "print('VCF parsing program by ---------------')\n",
    "print('''\n",
    "  |_  ||_   _| | |  | | / _ \\ | \\ | |\n",
    "    | |  | |   | |  | |/ /_\\ \\|  \\| |\n",
    "    | |  | |   | |/\\| ||  _  || . ` |\n",
    "/\\__/ / _| |_  \\  /\\  /| | | || |\\  |\n",
    "\\____/  \\___/   \\/  \\/ \\_| |_/\\_| \\_/\n",
    "''')\n",
    "print('-------------------------------------')"
   ]
  },
  {
   "cell_type": "code",
   "execution_count": 2,
   "metadata": {},
   "outputs": [],
   "source": [
    "import pandas as pd\n",
    "import numpy as np"
   ]
  },
  {
   "cell_type": "code",
   "execution_count": 3,
   "metadata": {},
   "outputs": [],
   "source": [
    "#vcf ex: homo_sapiens-chrY\n",
    "#gff3 ex: Homo_sapiens.GRCh38.96.chromosome.Y\n",
    "\n",
    "vcf_name = input('vcf 파일의 이름을 적어주세요 (확장자 제외): ')\n",
    "gff3_name = input('gff3 파일의 이름을 적어주세요 (확장자 제외): ')\n",
    "\n",
    "import1 = './vcf/'+vcf_name+'.vcf'\n",
    "import2 = './gff3/'+gff3_name+'.gff3'"
   ]
  },
  {
   "cell_type": "code",
   "execution_count": 4,
   "metadata": {},
   "outputs": [],
   "source": [
    "#gff3 file read\n",
    "gff3 = pd.read_csv(import2, sep='\\t', comment='#', error_bad_lines=False)\n",
    "\n",
    "gff3_gene = gff3.iloc[:,[3,4,6,-1]]\n",
    "gff3_gene.columns.values[[0,1,2,3]] = ['start', 'end', '..1', 'target']\n",
    "\n",
    "#drop gff3 except + strand\n",
    "m = gff3_gene['..1'] == '+'\n",
    "gff3_gene = gff3_gene[m]\n",
    "\n",
    "#중복 제거\n",
    "gff3_gene.drop_duplicates(['start']) \n",
    "\n",
    "#index 초기화\n",
    "gff3_gene = gff3_gene.iloc[:,[0,1,-1]].reset_index(drop = True)\n",
    "\n",
    "#drop gff3 except gene row\n",
    "for j in range(gff3_gene.shape[0]):\n",
    "    if('Name=' not in gff3_gene['target'][j]):\n",
    "        gff3_gene = gff3_gene.drop(j, 0)\n",
    "\n",
    "#target 형식 변경        \n",
    "def nameprocess(row):\n",
    "    return row['target'].split('Name=')[1].split(';')[0].split('-')[0]\n",
    "         \n",
    "gff3_gene['target'] = gff3_gene.apply(nameprocess, axis = 1)\n",
    "    \n",
    "#index 초기화\n",
    "gff3_gene = gff3_gene.reset_index(drop = True)\n",
    "\n",
    "gff_start = gff3_gene['start']\n",
    "gff_end = gff3_gene['end']"
   ]
  },
  {
   "cell_type": "code",
   "execution_count": 5,
   "metadata": {},
   "outputs": [
    {
     "name": "stderr",
     "output_type": "stream",
     "text": [
      "/biotools/anaconda2/envs/python3/lib/python3.7/site-packages/ipykernel_launcher.py:9: UserWarning: Boolean Series key will be reindexed to match DataFrame index.\n",
      "  if __name__ == '__main__':\n"
     ]
    }
   ],
   "source": [
    "#vcf file read\n",
    "vcf1 = pd.read_csv(import1, sep='\\t', header=38, error_bad_lines=False)\n",
    "\n",
    "vcf_mod = vcf1.iloc[:,[1,3,4]]\n",
    "\n",
    "#position check\n",
    "m = vcf_mod[\"POS\"] >= min(gff_start)\n",
    "m2 = vcf_mod[\"POS\"] <= max(gff_end)\n",
    "vcf_mod = vcf_mod[m][m2]\n",
    "\n",
    "vcf_mod = vcf_mod.reset_index(drop = True)"
   ]
  },
  {
   "cell_type": "code",
   "execution_count": 6,
   "metadata": {},
   "outputs": [
    {
     "name": "stderr",
     "output_type": "stream",
     "text": [
      "/biotools/anaconda2/envs/python3/lib/python3.7/site-packages/ipykernel_launcher.py:2: FutureWarning: Method .as_matrix will be removed in a future version. Use .values instead.\n",
      "  \n",
      "/biotools/anaconda2/envs/python3/lib/python3.7/site-packages/ipykernel_launcher.py:3: FutureWarning: Method .as_matrix will be removed in a future version. Use .values instead.\n",
      "  This is separate from the ipykernel package so we can avoid doing imports until\n"
     ]
    }
   ],
   "source": [
    "#dataframe to numpy matrix\n",
    "gff_np = gff3_gene.as_matrix()\n",
    "vcf_np = vcf_mod.as_matrix()"
   ]
  },
  {
   "cell_type": "code",
   "execution_count": null,
   "metadata": {},
   "outputs": [],
   "source": [
    "print('파일 불러오기 완료. 데이터 처리 중...')\n",
    "\n",
    "#processing\n",
    "\n",
    "pos = vcf_np[:,0]\n",
    "ref = vcf_np[:,1]\n",
    "alt = vcf_np[:,2]\n",
    "\n",
    "gff_start = gff_np[:,0]\n",
    "gff_end = gff_np[:,1]\n",
    "target = gff_np[:,2]\n",
    "\n",
    "temp = []\n",
    "\n",
    "for i in range(vcf_np.shape[0]):\n",
    "    pos_t = pos[i]\n",
    "    for j in range(gff_np.shape[0]):\n",
    "        if(pos_t in range(gff_start[j], gff_end[j]+1)): #start~end 사이에 있는지 check\n",
    "            temp.append([pos_t, ref[i], alt[i], target[j]])\n",
    "                      \n",
    "result = pd.DataFrame(temp, columns = ['POS','REF','ALT','GENE'])\n",
    "result.to_csv('./result.csv', header=True)"
   ]
  },
  {
   "cell_type": "code",
   "execution_count": 7,
   "metadata": {},
   "outputs": [
    {
     "name": "stdout",
     "output_type": "stream",
     "text": [
      "-------------------------------------\n",
      "\n",
      "|  _  \\|  _  || \\ | ||  ___|| |\n",
      "| | | || | | ||  \\| || |__  | |\n",
      "| | | || | | || . ` ||  __| | |\n",
      "| |/ / \\ \\_/ /| |\\  || |___ |_|\n",
      "|___/   \\___/ \\_| \\_/\\____/ (_)\n",
      "\n",
      "file export: result.csv -------------\n"
     ]
    }
   ],
   "source": [
    "print('-------------------------------------')\n",
    "print('''\n",
    "|  _  \\|  _  || \\ | ||  ___|| |\n",
    "| | | || | | ||  \\| || |__  | |\n",
    "| | | || | | || . ` ||  __| | |\n",
    "| |/ / \\ \\_/ /| |\\  || |___ |_|\n",
    "|___/   \\___/ \\_| \\_/\\____/ (_)\n",
    "''')\n",
    "print('file export: result.csv -------------')"
   ]
  },
  {
   "cell_type": "code",
   "execution_count": null,
   "metadata": {},
   "outputs": [],
   "source": []
  }
 ],
 "metadata": {
  "kernelspec": {
   "display_name": "Python 3",
   "language": "python",
   "name": "python3"
  },
  "language_info": {
   "codemirror_mode": {
    "name": "ipython",
    "version": 3
   },
   "file_extension": ".py",
   "mimetype": "text/x-python",
   "name": "python",
   "nbconvert_exporter": "python",
   "pygments_lexer": "ipython3",
   "version": "3.7.3"
  }
 },
 "nbformat": 4,
 "nbformat_minor": 2
}
